{
 "cells": [
  {
   "cell_type": "markdown",
   "metadata": {
    "slideshow": {
     "slide_type": "slide"
    }
   },
   "source": [
    "# 量化交易员的Python基础知识和可视化\n",
    "\n",
    "#### by RainX"
   ]
  },
  {
   "cell_type": "markdown",
   "metadata": {
    "slideshow": {
     "slide_type": "slide"
    }
   },
   "source": [
    "* 为什么是Python\n",
    "* 一些基础的可视化demo"
   ]
  },
  {
   "cell_type": "markdown",
   "metadata": {
    "slideshow": {
     "slide_type": "slide"
    }
   },
   "source": [
    "## 为什么是python\n"
   ]
  },
  {
   "cell_type": "markdown",
   "metadata": {
    "slideshow": {
     "slide_type": "slide"
    }
   },
   "source": [
    "### Python , Guido von Rossum, 1991年\n",
    "\n",
    "Python的框架已经确立。Python语言以对象为核心组织代码，支持多种编程范式，采用动态类型，自动进行内存回收。Python支持解释运行，并能调用C库进行拓展。\n",
    "\n",
    "http://blog.jobbole.com/77656/"
   ]
  },
  {
   "cell_type": "markdown",
   "metadata": {
    "slideshow": {
     "slide_type": "slide"
    }
   },
   "source": [
    "### Python有很多版本\n",
    "* CPython  2,3\n",
    "* Pypy\n",
    "* JPython\n",
    "* Cython\n",
    "* RPython\n",
    "* Jython\n",
    "* IronPython\n",
    "\n",
    "http://www.open-open.com/lib/view/open1380418623307.html"
   ]
  },
  {
   "cell_type": "markdown",
   "metadata": {
    "slideshow": {
     "slide_type": "slide"
    }
   },
   "source": [
    "### 从工具上来看，按由业务到工程的顺序\n",
    "\n",
    "``` EXCEL >> R >> Python >> Scala ```\n",
    "\n",
    "http://www.cshinacloud.cn/show.aspx?id=23242&cid=12"
   ]
  },
  {
   "cell_type": "markdown",
   "metadata": {
    "slideshow": {
     "slide_type": "slide"
    }
   },
   "source": [
    "### 科学计算软件 .. 工程，模拟..\n",
    "\n",
    "* Matlab\n",
    "* mathematica\n",
    "* Maple\n",
    "* scilab\n",
    "* R\n",
    "\n",
    "other:Sage Math, GNU Octave\n",
    "\n",
    "http://orion.math.iastate.edu/keinert/talks/tools/tools_08.html\n",
    "\n",
    "https://en.wikipedia.org/wiki/Comparison_of_numerical_analysis_software"
   ]
  },
  {
   "cell_type": "markdown",
   "metadata": {
    "slideshow": {
     "slide_type": "slide"
    }
   },
   "source": [
    "### Python 语言的应用领域\n",
    "* 科学计算 scipy\n",
    "* 爬虫 scrapy\n",
    "* 数据挖掘，机器学习和自然语言处理 scikit-learn, libsvm , nltk\n",
    "* web django , Tornado…... Flask\n",
    "* 游戏.. Python Embeded , Cocos2D，PyGame, Panda3d...\n",
    "* 生物学 bioPython\n",
    "* 经济学 talib - c库的封装\n",
    "* 数据可视化 matplotlab, seaborn\n",
    "* GUI: PyQT, PyGTK,wxPython, (SublimeText, Blender3D)"
   ]
  },
  {
   "cell_type": "markdown",
   "metadata": {
    "slideshow": {
     "slide_type": "slide"
    }
   },
   "source": [
    "### 量化常用的Python库和工具\n",
    "\n",
    "* Jupyter(iPython Notebook)\n",
    "* Scipy( Numpy, Pandas, Scipy, sympy, matplotlib)\n",
    "* seaborn\n",
    "* pyalgotrade"
   ]
  },
  {
   "cell_type": "markdown",
   "metadata": {
    "slideshow": {
     "slide_type": "subslide"
    }
   },
   "source": [
    "* Zipline: Zipline is a Pythonic algorithmic trading library. It is an event-driven system that supports both backtesting and live-trading.\n",
    "* blaze: NumPy and Pandas interface to Big Data\n",
    "* pyfolio: pyfolio is a Python library for performance and risk analysis of financial portfolios developed by Quantopian Inc.\n",
    "\n",
    "https://www.zhihu.com/question/28557233/answer/41931051"
   ]
  },
  {
   "cell_type": "markdown",
   "metadata": {
    "slideshow": {
     "slide_type": "slide"
    }
   },
   "source": [
    "## 一些基础的可视化Demo"
   ]
  },
  {
   "cell_type": "markdown",
   "metadata": {
    "slideshow": {
     "slide_type": "slide"
    }
   },
   "source": [
    "### numpy 示例"
   ]
  },
  {
   "cell_type": "code",
   "execution_count": 4,
   "metadata": {
    "collapsed": false,
    "slideshow": {
     "slide_type": "subslide"
    }
   },
   "outputs": [
    {
     "data": {
      "text/plain": [
       "array([-0.975335  , -0.02267764,  2.08228286, -0.84319996,  0.64947301,\n",
       "        2.83633017, -1.42835965,  0.10455945,  0.75386484, -0.86083534])"
      ]
     },
     "execution_count": 4,
     "metadata": {},
     "output_type": "execute_result"
    }
   ],
   "source": [
    "import numpy as np\n",
    "new_arr = np.random.randn(10)\n",
    "new_arr"
   ]
  },
  {
   "cell_type": "code",
   "execution_count": 5,
   "metadata": {
    "collapsed": false,
    "slideshow": {
     "slide_type": "subslide"
    }
   },
   "outputs": [
    {
     "data": {
      "text/plain": [
       "array([-0.975335  , -0.02267764])"
      ]
     },
     "execution_count": 5,
     "metadata": {},
     "output_type": "execute_result"
    }
   ],
   "source": [
    "new_arr[:2]"
   ]
  },
  {
   "cell_type": "code",
   "execution_count": 8,
   "metadata": {
    "collapsed": false,
    "slideshow": {
     "slide_type": "subslide"
    }
   },
   "outputs": [
    {
     "data": {
      "text/plain": [
       "array([[-0.975335  , -0.02267764,  2.08228286, -0.84319996,  0.64947301],\n",
       "       [ 2.83633017, -1.42835965,  0.10455945,  0.75386484, -0.86083534]])"
      ]
     },
     "execution_count": 8,
     "metadata": {},
     "output_type": "execute_result"
    }
   ],
   "source": [
    "new_arr=new_arr.reshape(2,5)\n",
    "new_arr"
   ]
  },
  {
   "cell_type": "code",
   "execution_count": 9,
   "metadata": {
    "collapsed": false,
    "slideshow": {
     "slide_type": "subslide"
    }
   },
   "outputs": [
    {
     "data": {
      "text/plain": [
       "array([ 2.83633017, -1.42835965,  0.10455945,  0.75386484, -0.86083534])"
      ]
     },
     "execution_count": 9,
     "metadata": {},
     "output_type": "execute_result"
    }
   ],
   "source": [
    "new_arr[1]"
   ]
  },
  {
   "cell_type": "code",
   "execution_count": 12,
   "metadata": {
    "collapsed": false,
    "slideshow": {
     "slide_type": "subslide"
    }
   },
   "outputs": [
    {
     "data": {
      "text/plain": [
       "array([[ 0.024665  ,  0.97732236,  3.08228286,  0.15680004,  1.64947301],\n",
       "       [ 3.83633017, -0.42835965,  1.10455945,  1.75386484,  0.13916466]])"
      ]
     },
     "execution_count": 12,
     "metadata": {},
     "output_type": "execute_result"
    }
   ],
   "source": [
    "new_arr = new_arr+1\n",
    "new_arr"
   ]
  },
  {
   "cell_type": "markdown",
   "metadata": {
    "slideshow": {
     "slide_type": "slide"
    }
   },
   "source": [
    "### Pandas示例"
   ]
  },
  {
   "cell_type": "code",
   "execution_count": 14,
   "metadata": {
    "collapsed": false,
    "scrolled": true,
    "slideshow": {
     "slide_type": "subslide"
    }
   },
   "outputs": [
    {
     "data": {
      "text/html": [
       "<div>\n",
       "<table border=\"1\" class=\"dataframe\">\n",
       "  <thead>\n",
       "    <tr style=\"text-align: right;\">\n",
       "      <th></th>\n",
       "      <th>a</th>\n",
       "      <th>b</th>\n",
       "      <th>c</th>\n",
       "      <th>d</th>\n",
       "      <th>e</th>\n",
       "    </tr>\n",
       "  </thead>\n",
       "  <tbody>\n",
       "    <tr>\n",
       "      <th>2015-01-01</th>\n",
       "      <td>0.024665</td>\n",
       "      <td>0.977322</td>\n",
       "      <td>3.082283</td>\n",
       "      <td>0.156800</td>\n",
       "      <td>1.649473</td>\n",
       "    </tr>\n",
       "    <tr>\n",
       "      <th>2015-01-02</th>\n",
       "      <td>3.836330</td>\n",
       "      <td>-0.428360</td>\n",
       "      <td>1.104559</td>\n",
       "      <td>1.753865</td>\n",
       "      <td>0.139165</td>\n",
       "    </tr>\n",
       "  </tbody>\n",
       "</table>\n",
       "</div>"
      ],
      "text/plain": [
       "                   a         b         c         d         e\n",
       "2015-01-01  0.024665  0.977322  3.082283  0.156800  1.649473\n",
       "2015-01-02  3.836330 -0.428360  1.104559  1.753865  0.139165"
      ]
     },
     "execution_count": 14,
     "metadata": {},
     "output_type": "execute_result"
    }
   ],
   "source": [
    "import pandas as pd\n",
    "new_df = pd.DataFrame(new_arr, columns=['a', 'b', 'c', 'd', 'e'], index=pd.date_range(start='20150101', end='20150102') )\n",
    "new_df"
   ]
  },
  {
   "cell_type": "code",
   "execution_count": 17,
   "metadata": {
    "collapsed": false,
    "slideshow": {
     "slide_type": "subslide"
    }
   },
   "outputs": [
    {
     "data": {
      "text/html": [
       "<div>\n",
       "<table border=\"1\" class=\"dataframe\">\n",
       "  <thead>\n",
       "    <tr style=\"text-align: right;\">\n",
       "      <th></th>\n",
       "      <th>日期</th>\n",
       "      <th>净值</th>\n",
       "      <th>总资产</th>\n",
       "      <th>收益率</th>\n",
       "      <th>持仓占比</th>\n",
       "      <th>现金占比</th>\n",
       "      <th>上证指数</th>\n",
       "      <th>收益率.1</th>\n",
       "      <th>深证成指</th>\n",
       "      <th>收益率.2</th>\n",
       "      <th>中小板指</th>\n",
       "      <th>收益率.3</th>\n",
       "      <th>创业板指</th>\n",
       "      <th>收益率.4</th>\n",
       "    </tr>\n",
       "  </thead>\n",
       "  <tbody>\n",
       "    <tr>\n",
       "      <th>0</th>\n",
       "      <td>2014-12-31</td>\n",
       "      <td>1.000</td>\n",
       "      <td>100000000.0</td>\n",
       "      <td>0.000</td>\n",
       "      <td>0.0000</td>\n",
       "      <td>100.00%</td>\n",
       "      <td>3234.67</td>\n",
       "      <td>0.0000</td>\n",
       "      <td>11014.62</td>\n",
       "      <td>0.0000</td>\n",
       "      <td>5461.18</td>\n",
       "      <td>0.0000</td>\n",
       "      <td>1471.76</td>\n",
       "      <td>0.0000</td>\n",
       "    </tr>\n",
       "    <tr>\n",
       "      <th>1</th>\n",
       "      <td>2015-01-05</td>\n",
       "      <td>1.004</td>\n",
       "      <td>100402862.6</td>\n",
       "      <td>0.004</td>\n",
       "      <td>0.7637</td>\n",
       "      <td>23.63%</td>\n",
       "      <td>3350.52</td>\n",
       "      <td>0.0358</td>\n",
       "      <td>11520.58</td>\n",
       "      <td>0.0459</td>\n",
       "      <td>5589.77</td>\n",
       "      <td>0.0235</td>\n",
       "      <td>1464.77</td>\n",
       "      <td>-0.0047</td>\n",
       "    </tr>\n",
       "  </tbody>\n",
       "</table>\n",
       "</div>"
      ],
      "text/plain": [
       "           日期     净值          总资产    收益率    持仓占比     现金占比     上证指数   收益率.1  \\\n",
       "0  2014-12-31  1.000  100000000.0  0.000  0.0000  100.00%  3234.67  0.0000   \n",
       "1  2015-01-05  1.004  100402862.6  0.004  0.7637   23.63%  3350.52  0.0358   \n",
       "\n",
       "       深证成指   收益率.2     中小板指   收益率.3     创业板指   收益率.4  \n",
       "0  11014.62  0.0000  5461.18  0.0000  1471.76  0.0000  \n",
       "1  11520.58  0.0459  5589.77  0.0235  1464.77 -0.0047  "
      ]
     },
     "execution_count": 17,
     "metadata": {},
     "output_type": "execute_result"
    }
   ],
   "source": [
    "def p2f(x):\n",
    "    return float(x.strip('%'))/100\n",
    "data =pd.read_csv('SSBZ3M.csv', date_parser=[0],converters={3: p2f, 7:p2f, 9:p2f, 11:p2f, 13:p2f,'持仓占比':p2f}, encoding='gbk')\n",
    "data[:2]"
   ]
  },
  {
   "cell_type": "code",
   "execution_count": 18,
   "metadata": {
    "collapsed": false,
    "slideshow": {
     "slide_type": "subslide"
    }
   },
   "outputs": [
    {
     "data": {
      "text/html": [
       "<div>\n",
       "<table border=\"1\" class=\"dataframe\">\n",
       "  <thead>\n",
       "    <tr style=\"text-align: right;\">\n",
       "      <th></th>\n",
       "      <th>日期</th>\n",
       "      <th>总资产</th>\n",
       "    </tr>\n",
       "  </thead>\n",
       "  <tbody>\n",
       "    <tr>\n",
       "      <th>0</th>\n",
       "      <td>2014-12-31</td>\n",
       "      <td>1.000000e+08</td>\n",
       "    </tr>\n",
       "    <tr>\n",
       "      <th>1</th>\n",
       "      <td>2015-01-05</td>\n",
       "      <td>1.004029e+08</td>\n",
       "    </tr>\n",
       "    <tr>\n",
       "      <th>2</th>\n",
       "      <td>2015-01-06</td>\n",
       "      <td>1.019029e+08</td>\n",
       "    </tr>\n",
       "  </tbody>\n",
       "</table>\n",
       "</div>"
      ],
      "text/plain": [
       "           日期           总资产\n",
       "0  2014-12-31  1.000000e+08\n",
       "1  2015-01-05  1.004029e+08\n",
       "2  2015-01-06  1.019029e+08"
      ]
     },
     "execution_count": 18,
     "metadata": {},
     "output_type": "execute_result"
    }
   ],
   "source": [
    "data.loc[:2, ['日期', '总资产']]"
   ]
  },
  {
   "cell_type": "code",
   "execution_count": 22,
   "metadata": {
    "collapsed": false,
    "slideshow": {
     "slide_type": "subslide"
    }
   },
   "outputs": [
    {
     "data": {
      "text/html": [
       "<div>\n",
       "<table border=\"1\" class=\"dataframe\">\n",
       "  <thead>\n",
       "    <tr style=\"text-align: right;\">\n",
       "      <th></th>\n",
       "      <th>日期</th>\n",
       "      <th>净值</th>\n",
       "      <th>总资产</th>\n",
       "      <th>收益率</th>\n",
       "      <th>持仓占比</th>\n",
       "      <th>现金占比</th>\n",
       "      <th>上证指数</th>\n",
       "      <th>收益率.1</th>\n",
       "      <th>深证成指</th>\n",
       "      <th>收益率.2</th>\n",
       "      <th>中小板指</th>\n",
       "      <th>收益率.3</th>\n",
       "      <th>创业板指</th>\n",
       "      <th>收益率.4</th>\n",
       "      <th>当日盈亏</th>\n",
       "    </tr>\n",
       "  </thead>\n",
       "  <tbody>\n",
       "    <tr>\n",
       "      <th>10</th>\n",
       "      <td>2015-01-16</td>\n",
       "      <td>1.0254</td>\n",
       "      <td>1.025420e+08</td>\n",
       "      <td>0.0254</td>\n",
       "      <td>0.8711</td>\n",
       "      <td>12.89%</td>\n",
       "      <td>3376.50</td>\n",
       "      <td>0.0438</td>\n",
       "      <td>11532.79</td>\n",
       "      <td>0.0470</td>\n",
       "      <td>5890.85</td>\n",
       "      <td>0.0787</td>\n",
       "      <td>1639.56</td>\n",
       "      <td>0.1140</td>\n",
       "      <td>0.011143</td>\n",
       "    </tr>\n",
       "    <tr>\n",
       "      <th>11</th>\n",
       "      <td>2015-01-19</td>\n",
       "      <td>0.9965</td>\n",
       "      <td>9.965038e+07</td>\n",
       "      <td>-0.0035</td>\n",
       "      <td>0.8800</td>\n",
       "      <td>12.00%</td>\n",
       "      <td>3116.35</td>\n",
       "      <td>-0.0366</td>\n",
       "      <td>10770.92</td>\n",
       "      <td>-0.0221</td>\n",
       "      <td>5743.56</td>\n",
       "      <td>0.0517</td>\n",
       "      <td>1630.07</td>\n",
       "      <td>0.1076</td>\n",
       "      <td>-0.028184</td>\n",
       "    </tr>\n",
       "  </tbody>\n",
       "</table>\n",
       "</div>"
      ],
      "text/plain": [
       "            日期      净值           总资产     收益率    持仓占比    现金占比     上证指数   收益率.1  \\\n",
       "10  2015-01-16  1.0254  1.025420e+08  0.0254  0.8711  12.89%  3376.50  0.0438   \n",
       "11  2015-01-19  0.9965  9.965038e+07 -0.0035  0.8800  12.00%  3116.35 -0.0366   \n",
       "\n",
       "        深证成指   收益率.2     中小板指   收益率.3     创业板指   收益率.4      当日盈亏  \n",
       "10  11532.79  0.0470  5890.85  0.0787  1639.56  0.1140  0.011143  \n",
       "11  10770.92 -0.0221  5743.56  0.0517  1630.07  0.1076 -0.028184  "
      ]
     },
     "execution_count": 22,
     "metadata": {},
     "output_type": "execute_result"
    }
   ],
   "source": [
    "data['当日盈亏']=data['净值'].pct_change()\n",
    "data[10:12]"
   ]
  },
  {
   "cell_type": "markdown",
   "metadata": {
    "slideshow": {
     "slide_type": "slide"
    }
   },
   "source": [
    "### Matplotlib 和Seaborn 数据可视化"
   ]
  },
  {
   "cell_type": "code",
   "execution_count": 29,
   "metadata": {
    "collapsed": true,
    "slideshow": {
     "slide_type": "subslide"
    }
   },
   "outputs": [],
   "source": [
    "%matplotlib inline\n",
    "import matplotlib as mpl\n",
    "import matplotlib.pyplot as plt\n",
    "mpl.style.use(\"ggplot\")"
   ]
  },
  {
   "cell_type": "code",
   "execution_count": 30,
   "metadata": {
    "collapsed": false,
    "slideshow": {
     "slide_type": "subslide"
    }
   },
   "outputs": [
    {
     "data": {
      "text/plain": [
       "<matplotlib.axes._subplots.AxesSubplot at 0x7ff4cbb2de80>"
      ]
     },
     "execution_count": 30,
     "metadata": {},
     "output_type": "execute_result"
    },
    {
     "data": {
      "image/png": "[encoded data removed]",
      "text/plain": [
       "<matplotlib.figure.Figure at 0x7ff4cbaf1ef0>"
      ]
     },
     "metadata": {},
     "output_type": "display_data"
    }
   ],
   "source": [
    "data['净值'].plot()"
   ]
  },
  {
   "cell_type": "code",
   "execution_count": 33,
   "metadata": {
    "collapsed": false,
    "slideshow": {
     "slide_type": "subslide"
    }
   },
   "outputs": [
    {
     "data": {
      "text/plain": [
       "<matplotlib.axes._subplots.AxesSubplot at 0x7ff4cba6d4a8>"
      ]
     },
     "execution_count": 33,
     "metadata": {},
     "output_type": "execute_result"
    },
    {
     "data": {
      "image/png": "[encoded data removed]",
      "text/plain": [
       "<matplotlib.figure.Figure at 0x7ff4cb9610b8>"
      ]
     },
     "metadata": {},
     "output_type": "display_data"
    }
   ],
   "source": [
    "data['深证成指'][:20].plot(kind='bar')"
   ]
  },
  {
   "cell_type": "code",
   "execution_count": 35,
   "metadata": {
    "collapsed": false,
    "slideshow": {
     "slide_type": "subslide"
    }
   },
   "outputs": [
    {
     "data": {
      "text/plain": [
       "<matplotlib.axes._subplots.AxesSubplot at 0x7ff4cb764e48>"
      ]
     },
     "execution_count": 35,
     "metadata": {},
     "output_type": "execute_result"
    },
    {
     "data": {
      "image/png": "[encoded data removed]",
      "text/plain": [
       "<matplotlib.figure.Figure at 0x7ff4cb730400>"
      ]
     },
     "metadata": {},
     "output_type": "display_data"
    }
   ],
   "source": [
    "new_df.plot(kind='bar')"
   ]
  },
  {
   "cell_type": "code",
   "execution_count": 51,
   "metadata": {
    "collapsed": false,
    "slideshow": {
     "slide_type": "subslide"
    }
   },
   "outputs": [
    {
     "data": {
      "text/plain": [
       "<matplotlib.axes._subplots.AxesSubplot at 0x7ff4cb237b38>"
      ]
     },
     "execution_count": 51,
     "metadata": {},
     "output_type": "execute_result"
    },
    {
     "data": {
      "image/png": "[encoded data removed]",
      "text/plain": [
       "<matplotlib.figure.Figure at 0x7ff4cb25acc0>"
      ]
     },
     "metadata": {},
     "output_type": "display_data"
    }
   ],
   "source": [
    "plt.figure(figsize=[6,6])\n",
    "new_df.loc['2015-01-01'].plot(kind='pie')"
   ]
  },
  {
   "cell_type": "code",
   "execution_count": 54,
   "metadata": {
    "collapsed": false,
    "slideshow": {
     "slide_type": "subslide"
    }
   },
   "outputs": [
    {
     "data": {
      "text/plain": [
       "<matplotlib.axes._subplots.AxesSubplot at 0x7ff4cb100128>"
      ]
     },
     "execution_count": 54,
     "metadata": {},
     "output_type": "execute_result"
    },
    {
     "data": {
      "image/png": "[encoded data removed]",
      "text/plain": [
       "<matplotlib.figure.Figure at 0x7ff4cb0b7278>"
      ]
     },
     "metadata": {},
     "output_type": "display_data"
    }
   ],
   "source": [
    "data.plot(kind='scatter', x=['上证指数'],y =['深证成指'])"
   ]
  },
  {
   "cell_type": "code",
   "execution_count": 55,
   "metadata": {
    "collapsed": true,
    "slideshow": {
     "slide_type": "subslide"
    }
   },
   "outputs": [],
   "source": [
    "import seaborn as sns"
   ]
  },
  {
   "cell_type": "code",
   "execution_count": 58,
   "metadata": {
    "collapsed": false
   },
   "outputs": [
    {
     "name": "stderr",
     "output_type": "stream",
     "text": [
      "/home/rainx/miniconda3/envs/finance/lib/python3.5/site-packages/statsmodels/nonparametric/kdetools.py:20: VisibleDeprecationWarning: using a non-integer number instead of an integer will result in an error in the future\n",
      "  y = X[:m/2+1] + np.r_[0,X[m/2+1:],0]*1j\n"
     ]
    },
    {
     "data": {
      "text/plain": [
       "<seaborn.axisgrid.JointGrid at 0x7ff4c2c60d68>"
      ]
     },
     "execution_count": 58,
     "metadata": {},
     "output_type": "execute_result"
    },
    {
     "data": {
      "image/png": "[encoded data removed]",
      "text/plain": [
       "<matplotlib.figure.Figure at 0x7ff4c2c60fd0>"
      ]
     },
     "metadata": {},
     "output_type": "display_data"
    }
   ],
   "source": [
    "sns.jointplot(data['上证指数'], data['深证成指'], kind='reg')"
   ]
  },
  {
   "cell_type": "markdown",
   "metadata": {
    "slideshow": {
     "slide_type": "slide"
    }
   },
   "source": [
    "### 美国西雅图人们使用自行车情况分析与预测（进阶）\n",
    "\n",
    "http://www.jianshu.com/p/9658d0588e60\n",
    "\n",
    "http://www.jianshu.com/p/c1a0524267a7"
   ]
  }
 ],
 "metadata": {
  "celltoolbar": "Slideshow",
  "kernelspec": {
   "display_name": "Python 3",
   "language": "python",
   "name": "python3"
  },
  "language_info": {
   "codemirror_mode": {
    "name": "ipython",
    "version": 3
   },
   "file_extension": ".py",
   "mimetype": "text/x-python",
   "name": "python",
   "nbconvert_exporter": "python",
   "pygments_lexer": "ipython3",
   "version": "3.5.1"
  }
 },
 "nbformat": 4,
 "nbformat_minor": 0
}
